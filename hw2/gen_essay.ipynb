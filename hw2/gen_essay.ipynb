{
 "cells": [
  {
   "cell_type": "code",
   "execution_count": 58,
   "metadata": {},
   "outputs": [],
   "source": [
    "from openai import OpenAI\n",
    "import os\n",
    "from dotenv import load_dotenv\n",
    "\n",
    "env_path = os.path.join('..', '.env')\n",
    "load_dotenv(dotenv_path=env_path)\n",
    "openai_api_key = os.getenv('OPENAI_API_KEY')\n",
    "client = OpenAI(api_key=openai_api_key)\n",
    "\n",
    "def gen_essay(mode, topic, role):\n",
    "    match mode:\n",
    "        case \"eng\":\n",
    "            formatted_msg = f\"\"\"Write a 3-paragraph essay about \"{topic}\".Please use a professional tone.\"\"\"\n",
    "            completion = client.chat.completions.create(\n",
    "                model=\"gpt-4o\",\n",
    "                messages=[\n",
    "                    {\"role\": \"system\", \"content\": f\"You are a {role}.\"},\n",
    "                    {\"role\": \"user\", \"content\": formatted_msg}\n",
    "                ]\n",
    "            )\n",
    "        case \"ch\":\n",
    "            pass\n",
    "    reply = completion.choices[0].message.content\n",
    "    return reply\n",
    "\n",
    "def evalue_essay(mode, evaluation_rules, essay):\n",
    "    match mode:\n",
    "        case \"eng\":\n",
    "            completion = client.chat.completions.create(\n",
    "                model=\"gpt-4o\",\n",
    "                messages=[\n",
    "                    {\"role\": \"system\", \"content\": evaluation_rules},\n",
    "                    {\"role\": \"user\", \"content\": f\"Student's Essay: {essay}\"}\n",
    "                ]\n",
    "            )\n",
    "        case \"ch\":\n",
    "            pass\n",
    "    reply = completion.choices[0].message.content\n",
    "    return reply\n"
   ]
  },
  {
   "cell_type": "code",
   "execution_count": 44,
   "metadata": {},
   "outputs": [],
   "source": [
    "# generate english essay\n",
    "import os\n",
    "\n",
    "topic = \"Do you agree or disagree with the following statement? Artificial intelligence will eventually replace humans in most areas of work in the future word.\"\n",
    "role = \"perfect writer\"\n",
    "mode = \"eng\"\n",
    "english_essay = gen_essay(mode, topic, role)\n",
    "# save essay to file\n",
    "base_dir = '/Users/guobaichen/Documents/MyProgram/NTU-2024-spring-GenAI'\n",
    "file_name = 'hw2/essays/english_essay.txt'\n",
    "file_path = os.path.join(base_dir, file_name)\n",
    "with open(file_path, 'w') as f:\n",
    "    f.write(english_essay)"
   ]
  },
  {
   "cell_type": "code",
   "execution_count": 51,
   "metadata": {},
   "outputs": [],
   "source": [
    "# get english essay evaluation rules\n",
    "import os\n",
    "\n",
    "# 構建文件路徑\n",
    "base_dir = '/Users/guobaichen/Documents/MyProgram/NTU-2024-spring-GenAI'\n",
    "file_name = 'hw2/evaluation_rules/prompt_en.txt'\n",
    "file_path = os.path.join(base_dir, file_name)\n",
    "\n",
    "# 讀取文件內容\n",
    "with open(file_path, 'r') as f:\n",
    "    evaluation_rules = f.read()"
   ]
  },
  {
   "cell_type": "code",
   "execution_count": 60,
   "metadata": {},
   "outputs": [],
   "source": [
    "mode = \"eng\"\n",
    "evaluation_reply = evalue_essay(mode, evaluation_rules, english_essay)"
   ]
  },
  {
   "cell_type": "code",
   "execution_count": 62,
   "metadata": {},
   "outputs": [],
   "source": [
    "# get english essay evaluation results\n",
    "import os\n",
    "\n",
    "# 構建文件路徑\n",
    "base_dir = '/Users/guobaichen/Documents/MyProgram/NTU-2024-spring-GenAI'\n",
    "file_name = 'hw2/evaluation_results/evaluation_reply_en.txt'\n",
    "file_path = os.path.join(base_dir, file_name)\n",
    "\n",
    "# 寫入文件內容\n",
    "with open(file_path, 'w') as f:\n",
    "    f.write(evaluation_reply)"
   ]
  },
  {
   "cell_type": "code",
   "execution_count": null,
   "metadata": {},
   "outputs": [],
   "source": [
    "'''\n",
    "  看到山上那麼多參天大樹時，會勾起我的惻隱之心。在無法順暢呼吸的空間裡，樹木\n",
    "之間為了生存必須展開激烈的競爭。為了能多接受一些陽光，它們只能拼命向上生長。\n",
    "但是，只為生存而競爭的森林卻漸次死亡，因為陽光無法到達地面，所以溫度不夠高， 無法讓幼小的生命萌芽。小樹和花、草，以及與它們一起生活的小昆蟲沒有生存的空間。 雖然表面上看起來非常完美，但這種森林其實與沒有希望的不孕之地無異。\n",
    "根據我的經驗，密集栽種的樹苗體型壯大數十倍時，就需要開始砍樹，否則樹木會抱 怨空間太窄，活不下去。要想確保樹木能充分接受陽光照射的空間，就必須做出犧牲。因 此，幾年期間強行進行砍伐，樹木間距剛開始時是一公尺，現已擴大到七公尺。也就是說， 即使是粗略估算，也可知七棵樹中有六棵為之消失。\n",
    "森林要想成為孕育新生命的希望之地，就需要有縫隙。如果樹木壽命結束或因為意外 災害而倒下，該位置就會產生空間，那麼，溫暖的陽光就會照射進來，被陽光照射的地面 混雜著前一年秋天凋落的樹葉，於是積聚起能夠孕育新生命的養分。因此，樹木的縫隙， 既是結束和開始共存的空間，也是由缺乏轉化為希望的空間。(改寫自禹鐘榮著、盧鴻金 譯《樹木教我的人生課》)\n",
    "請回答下列問題:\n",
    "  根據上文所述，為什麼森林需要縫隙?由此聯想，人生是否也需要縫隙?請以「縫隙\n",
    "的聯想」為題，寫一篇文章，結合生活經驗或見聞，書寫你的感思與體悟。(占 25 分)\n",
    "'''"
   ]
  }
 ],
 "metadata": {
  "kernelspec": {
   "display_name": "Python (aienv)",
   "language": "python",
   "name": "myenv"
  },
  "language_info": {
   "codemirror_mode": {
    "name": "ipython",
    "version": 3
   },
   "file_extension": ".py",
   "mimetype": "text/x-python",
   "name": "python",
   "nbconvert_exporter": "python",
   "pygments_lexer": "ipython3",
   "version": "3.10.4"
  }
 },
 "nbformat": 4,
 "nbformat_minor": 2
}
